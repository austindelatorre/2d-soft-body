{
 "cells": [
  {
   "cell_type": "code",
   "execution_count": 60,
   "id": "d512ef20",
   "metadata": {},
   "outputs": [],
   "source": [
    "import numpy as np\n",
    "import matplotlib.pyplot as plt\n",
    "from matplotlib.collections import LineCollection\n",
    "from numba import jit\n",
    "DT = 0.1\n",
    "DAMP = 0.9"
   ]
  },
  {
   "cell_type": "code",
   "execution_count": 168,
   "id": "3af6e34c",
   "metadata": {},
   "outputs": [],
   "source": [
    "class Util:\n",
    "    \n",
    "    def magnitude(v):\n",
    "        return np.linalg.norm(v)\n",
    "    mag = length = dist = magnitude\n",
    "    \n",
    "    def normalized(v):\n",
    "        return v / np.sqrt(np.sum(v**2))\n",
    "    norm = normalized\n",
    "    \n",
    "    def grid_import(nodes, edges, g = (0, -9.8), pm = 1, k = 10):\n",
    "        particles = [Particle(p, (0, 0.5), 0.1) for p in nodes]\n",
    "        springs = [Spring(1, particles[ns[0]], particles[ns[1]]) for ns in edges]\n",
    "        mesh = Mesh()\n",
    "        mesh.batch_add(particles, springs)\n",
    "        return mesh\n",
    "    \n",
    "    def c2i(x,y,n):\n",
    "        return x * (n) + y\n",
    "    \n",
    "    def create_grid(N):\n",
    "        nodes = [(i//N, i%N) for i in range(N*N)]\n",
    "        # edges = np.zeros(( (N-1)*(N-1) + 2*N) *4).reshape(((N-1)*(N-1) + 2*N), 2, 2)\n",
    "        edges = []\n",
    "        for x in range(N):\n",
    "            for y in range(N):\n",
    "                if x < (N - 1) and y < (N - 1):\n",
    "                    edges.append((Util.c2i(x,y,N),Util.c2i(x+1,y,N)))\n",
    "                    edges.append((Util.c2i(x,y,N),Util.c2i(x,y+1,N)))\n",
    "                    edges.append((Util.c2i(x,y,N),Util.c2i(x+1,y+1,N)))\n",
    "\n",
    "                elif x < (N - 1) and y == (N - 1):\n",
    "                    edges.append((Util.c2i(x,y,N),Util.c2i(x+1,y,N)))\n",
    "\n",
    "                elif y < (N - 1) and x == (N - 1):\n",
    "                    edges.append((Util.c2i(x,y,N),Util.c2i(x,y+1,N)))\n",
    "        return edges, nodes\n",
    "    "
   ]
  },
  {
   "cell_type": "code",
   "execution_count": null,
   "id": "4ae6602a",
   "metadata": {},
   "outputs": [],
   "source": []
  },
  {
   "cell_type": "code",
   "execution_count": 169,
   "id": "21d7d317",
   "metadata": {},
   "outputs": [],
   "source": [
    "class Particle:\n",
    "    def __init__(self, pos = np.zeros(2), acc_i = np.zeros(2), m = 1, lock = False):\n",
    "        self.pos = np.array(pos)\n",
    "        self.acc_i = np.array(acc_i)\n",
    "        self.acc = np.array(acc_i)\n",
    "        self.pos_prev = self.pos # - np.array(vel_i) * DT - 0.5 * self.acc * DT * DT\n",
    "        self.m = m\n",
    "        self.lock = lock\n",
    "    \n",
    "    def verlet(self):\n",
    "        if not self.lock:\n",
    "            next_pos = self.pos * 2 - self.pos_prev + self.acc * DT * DT\n",
    "            self.pos_prev, self.pos = self.pos, next_pos\n",
    "    \n",
    "    def apply_force(self, force):\n",
    "         if not self.lock:\n",
    "            self.acc = (force / self.m) + self.acc_i\n",
    "    \n",
    "    def dir_to(self, other, norm=True):\n",
    "        if norm:\n",
    "            return Util.normalized(other.pos - self.pos)\n",
    "        \n",
    "        \n",
    "    def __repr__(self):\n",
    "        return \"\\n Particle: \\n\\t Position: \" + str(self.pos) \\\n",
    "                + \"\\n\\t Past Position: \" + str(self.pos_prev) \\\n",
    "                + \"\\n\\t Acceleration: \" + str(self.acc) \\\n",
    "                + \"\\n\\t Mass: \" + str(self.m) \\\n",
    "                + \"\\n\\t Achored: \" + str(self.lock)"
   ]
  },
  {
   "cell_type": "code",
   "execution_count": 188,
   "id": "173bd55e",
   "metadata": {},
   "outputs": [],
   "source": [
    "class Spring:\n",
    "    \n",
    "    def __init__(self, k, node1, node2, d=None):\n",
    "        self.k = k\n",
    "        self.node1 = node1\n",
    "        self.node2 = node2\n",
    "        if d == None:\n",
    "            self.d = Util.length(self.node1.pos - self.node2.pos)\n",
    "        else:\n",
    "            self.d = d\n",
    "            \n",
    "    def apply_constraint(self):\n",
    "        delta_pos = Util.length(self.node1.pos - self.node2.pos) - self.d\n",
    "        force = self.k * delta_pos\n",
    "        f_1t2 = self.node1.dir_to(self.node2) * force\n",
    "        f_2t1 = self.node2.dir_to(self.node1) * force\n",
    "        self.node2.apply_force(f_2t1)\n",
    "        self.node1.apply_force(f_1t2)\n",
    "        \n",
    "\n",
    "    def __repr__(self):\n",
    "        return \"Spring \" + str(self.spring_id) + \": \\n\\t Position1: \" + str(self.node1.pos) \\\n",
    "                + \"Position2: \" + str(self.node2.pos) \\\n",
    "                + \"\\n\\t Length: \" + str(self.d) \\\n",
    "                + \"\\n\\t k: \" + str(self.k) "
   ]
  },
  {
   "cell_type": "code",
   "execution_count": 189,
   "id": "5e1561a4",
   "metadata": {},
   "outputs": [
    {
     "data": {
      "text/plain": [
       "4.0"
      ]
     },
     "execution_count": 189,
     "metadata": {},
     "output_type": "execute_result"
    }
   ],
   "source": [
    "a = np.array([0,1])\n",
    "b = np.array([0,5])\n",
    "Util.length(a-b)"
   ]
  },
  {
   "cell_type": "code",
   "execution_count": 190,
   "id": "1b1a2c72",
   "metadata": {},
   "outputs": [],
   "source": [
    "class Mesh:\n",
    "    def __init__(self, dt = 0.1):\n",
    "        global DT \n",
    "        DT = dt\n",
    "        self.particles = list()\n",
    "        self.springs = list()\n",
    "    \n",
    "    def add_particle(self, particle):\n",
    "        self.particles.append(particle)\n",
    "        \n",
    "    def add_spring(self, spring):\n",
    "        self.springs.append(spring)\n",
    "    \n",
    "    def batch_add(self, particles, springs):\n",
    "        self.particles += particles\n",
    "        self.springs += springs\n",
    "    \n",
    "    def apply_constraints(self):\n",
    "        for particle in self.particles:\n",
    "            particle.verlet()\n",
    "        for spring in self.springs:\n",
    "            spring.apply_constraint()\n",
    "            \n",
    "        \n",
    "    def display_mesh(self):\n",
    "        x = []\n",
    "        y = []\n",
    "        for particle in self.particles:\n",
    "            x.append(particle.pos[0])\n",
    "            y.append(particle.pos[1])\n",
    "            \n",
    "        plt.plot(x, y, \"o\")\n",
    "        \n",
    "        lines = []\n",
    "        for spring in self.springs:\n",
    "            \n",
    "            a = spring.node1.pos\n",
    "            b = spring.node2.pos\n",
    "            lines.append([a,b])\n",
    "            \n",
    "        lc = LineCollection(lines, color=[\"k\",\"blue\"], lw=0.5)\n",
    "        \n",
    "        plt.gca().add_collection(lc)\n",
    "        plt.show()\n",
    "\n",
    "    def run_static_loop(self, n, show=False):\n",
    "        for _ in range(n):\n",
    "            self.apply_constraints()\n",
    "    \n",
    "    "
   ]
  },
  {
   "cell_type": "code",
   "execution_count": 193,
   "id": "484c8310",
   "metadata": {},
   "outputs": [],
   "source": [
    "def mesh_construct():\n",
    "    p = [Particle((0,0), (0,-9.8), 1, False),\n",
    "        Particle((0,1), (0,-9.8), 1, True),\n",
    "        Particle((1,1), (0,-9.8), 1, True),\n",
    "        Particle((1,0), (0,-9.8), 1, False)]\n",
    "    s = [Spring(10, p[0], p[1]),\n",
    "        Spring(1, p[1], p[2]),\n",
    "        Spring(1, p[2], p[3]),\n",
    "        Spring(1, p[3], p[0]),\n",
    "        Spring(1, p[0], p[2]),\n",
    "        Spring(1, p[1], p[3])]\n",
    "    mesh = Mesh()\n",
    "    mesh.particles = p\n",
    "    mesh.springs = s\n",
    "    mesh.display_mesh()\n",
    "    for _ in range(10):\n",
    "        mesh.run_static_loop(10)\n",
    "        mesh.display_mesh()\n",
    "        for i in mesh.particles:\n",
    "            print(i)\n",
    "\n",
    "\n",
    "def mesh_construct():\n",
    "    p = [Particle((0,0), (0, -9.8), m = 10, lock = False),\n",
    "        Particle((0,1), (0, -9.8), m = 10, lock = True)]\n",
    "    s = [Spring(10, p[0], p[1], 1.1)]\n",
    "    mesh = Mesh()\n",
    "    mesh.particles = p\n",
    "    mesh.springs = s\n",
    "    mesh.display_mesh()\n",
    "    for _ in range(10):\n",
    "        mesh.run_static_loop(10)\n",
    "        mesh.display_mesh()\n",
    "        for i in mesh.particles:\n",
    "            print(i)"
   ]
  },
  {
   "cell_type": "code",
   "execution_count": 194,
   "id": "93e79aed",
   "metadata": {},
   "outputs": [
    {
     "data": {
      "image/png": "[encoded data removed]",
      "text/plain": [
       "<Figure size 432x288 with 1 Axes>"
      ]
     },
     "metadata": {
      "needs_background": "light"
     },
     "output_type": "display_data"
    },
    {
     "data": {
      "image/png": "[encoded data removed]",
      "text/plain": [
       "<Figure size 432x288 with 1 Axes>"
      ]
     },
     "metadata": {
      "needs_background": "light"
     },
     "output_type": "display_data"
    },
    {
     "name": "stdout",
     "output_type": "stream",
     "text": [
      "\n",
      " Particle: \n",
      "\t Position: [ 0.  -0.2]\n",
      "\t Past Position: [ 0.  -0.2]\n",
      "\t Acceleration: [ 0. 10.]\n",
      "\t Mass: 10\n",
      "\t Achored: False\n",
      "\n",
      " Particle: \n",
      "\t Position: [0 1]\n",
      "\t Past Position: [0 1]\n",
      "\t Acceleration: [0. 0.]\n",
      "\t Mass: 10\n",
      "\t Achored: True\n"
     ]
    },
    {
     "data": {
      "image/png": "[encoded data removed]",
      "text/plain": [
       "<Figure size 432x288 with 1 Axes>"
      ]
     },
     "metadata": {
      "needs_background": "light"
     },
     "output_type": "display_data"
    },
    {
     "name": "stdout",
     "output_type": "stream",
     "text": [
      "\n",
      " Particle: \n",
      "\t Position: [ 0.  -0.1]\n",
      "\t Past Position: [0. 0.]\n",
      "\t Acceleration: [0. 0.]\n",
      "\t Mass: 10\n",
      "\t Achored: False\n",
      "\n",
      " Particle: \n",
      "\t Position: [0 1]\n",
      "\t Past Position: [0 1]\n",
      "\t Acceleration: [0. 0.]\n",
      "\t Mass: 10\n",
      "\t Achored: True\n"
     ]
    },
    {
     "data": {
      "image/png": "[encoded data removed]",
      "text/plain": [
       "<Figure size 432x288 with 1 Axes>"
      ]
     },
     "metadata": {
      "needs_background": "light"
     },
     "output_type": "display_data"
    },
    {
     "name": "stdout",
     "output_type": "stream",
     "text": [
      "\n",
      " Particle: \n",
      "\t Position: [0. 0.]\n",
      "\t Past Position: [ 0.  -0.1]\n",
      "\t Acceleration: [  0. -10.]\n",
      "\t Mass: 10\n",
      "\t Achored: False\n",
      "\n",
      " Particle: \n",
      "\t Position: [0 1]\n",
      "\t Past Position: [0 1]\n",
      "\t Acceleration: [0. 0.]\n",
      "\t Mass: 10\n",
      "\t Achored: True\n"
     ]
    },
    {
     "data": {
      "image/png": "[encoded data removed]",
      "text/plain": [
       "<Figure size 432x288 with 1 Axes>"
      ]
     },
     "metadata": {
      "needs_background": "light"
     },
     "output_type": "display_data"
    },
    {
     "name": "stdout",
     "output_type": "stream",
     "text": [
      "\n",
      " Particle: \n",
      "\t Position: [ 0.  -0.2]\n",
      "\t Past Position: [ 0.  -0.2]\n",
      "\t Acceleration: [ 0. 10.]\n",
      "\t Mass: 10\n",
      "\t Achored: False\n",
      "\n",
      " Particle: \n",
      "\t Position: [0 1]\n",
      "\t Past Position: [0 1]\n",
      "\t Acceleration: [0. 0.]\n",
      "\t Mass: 10\n",
      "\t Achored: True\n"
     ]
    },
    {
     "data": {
      "image/png": "[encoded data removed]",
      "text/plain": [
       "<Figure size 432x288 with 1 Axes>"
      ]
     },
     "metadata": {
      "needs_background": "light"
     },
     "output_type": "display_data"
    },
    {
     "name": "stdout",
     "output_type": "stream",
     "text": [
      "\n",
      " Particle: \n",
      "\t Position: [ 0.  -0.1]\n",
      "\t Past Position: [0. 0.]\n",
      "\t Acceleration: [0. 0.]\n",
      "\t Mass: 10\n",
      "\t Achored: False\n",
      "\n",
      " Particle: \n",
      "\t Position: [0 1]\n",
      "\t Past Position: [0 1]\n",
      "\t Acceleration: [0. 0.]\n",
      "\t Mass: 10\n",
      "\t Achored: True\n"
     ]
    },
    {
     "data": {
      "image/png": "[encoded data removed]",
      "text/plain": [
       "<Figure size 432x288 with 1 Axes>"
      ]
     },
     "metadata": {
      "needs_background": "light"
     },
     "output_type": "display_data"
    },
    {
     "name": "stdout",
     "output_type": "stream",
     "text": [
      "\n",
      " Particle: \n",
      "\t Position: [0. 0.]\n",
      "\t Past Position: [ 0.  -0.1]\n",
      "\t Acceleration: [  0. -10.]\n",
      "\t Mass: 10\n",
      "\t Achored: False\n",
      "\n",
      " Particle: \n",
      "\t Position: [0 1]\n",
      "\t Past Position: [0 1]\n",
      "\t Acceleration: [0. 0.]\n",
      "\t Mass: 10\n",
      "\t Achored: True\n"
     ]
    },
    {
     "data": {
      "image/png": "[encoded data removed]",
      "text/plain": [
       "<Figure size 432x288 with 1 Axes>"
      ]
     },
     "metadata": {
      "needs_background": "light"
     },
     "output_type": "display_data"
    },
    {
     "name": "stdout",
     "output_type": "stream",
     "text": [
      "\n",
      " Particle: \n",
      "\t Position: [ 0.  -0.2]\n",
      "\t Past Position: [ 0.  -0.2]\n",
      "\t Acceleration: [ 0. 10.]\n",
      "\t Mass: 10\n",
      "\t Achored: False\n",
      "\n",
      " Particle: \n",
      "\t Position: [0 1]\n",
      "\t Past Position: [0 1]\n",
      "\t Acceleration: [0. 0.]\n",
      "\t Mass: 10\n",
      "\t Achored: True\n"
     ]
    },
    {
     "data": {
      "image/png": "[encoded data removed]",
      "text/plain": [
       "<Figure size 432x288 with 1 Axes>"
      ]
     },
     "metadata": {
      "needs_background": "light"
     },
     "output_type": "display_data"
    },
    {
     "name": "stdout",
     "output_type": "stream",
     "text": [
      "\n",
      " Particle: \n",
      "\t Position: [ 0.  -0.1]\n",
      "\t Past Position: [0. 0.]\n",
      "\t Acceleration: [0. 0.]\n",
      "\t Mass: 10\n",
      "\t Achored: False\n",
      "\n",
      " Particle: \n",
      "\t Position: [0 1]\n",
      "\t Past Position: [0 1]\n",
      "\t Acceleration: [0. 0.]\n",
      "\t Mass: 10\n",
      "\t Achored: True\n"
     ]
    },
    {
     "data": {
      "image/png": "[encoded data removed]",
      "text/plain": [
       "<Figure size 432x288 with 1 Axes>"
      ]
     },
     "metadata": {
      "needs_background": "light"
     },
     "output_type": "display_data"
    },
    {
     "name": "stdout",
     "output_type": "stream",
     "text": [
      "\n",
      " Particle: \n",
      "\t Position: [0. 0.]\n",
      "\t Past Position: [ 0.  -0.1]\n",
      "\t Acceleration: [  0. -10.]\n",
      "\t Mass: 10\n",
      "\t Achored: False\n",
      "\n",
      " Particle: \n",
      "\t Position: [0 1]\n",
      "\t Past Position: [0 1]\n",
      "\t Acceleration: [0. 0.]\n",
      "\t Mass: 10\n",
      "\t Achored: True\n"
     ]
    },
    {
     "data": {
      "image/png": "[encoded data removed]",
      "text/plain": [
       "<Figure size 432x288 with 1 Axes>"
      ]
     },
     "metadata": {
      "needs_background": "light"
     },
     "output_type": "display_data"
    },
    {
     "name": "stdout",
     "output_type": "stream",
     "text": [
      "\n",
      " Particle: \n",
      "\t Position: [ 0.  -0.2]\n",
      "\t Past Position: [ 0.  -0.2]\n",
      "\t Acceleration: [ 0. 10.]\n",
      "\t Mass: 10\n",
      "\t Achored: False\n",
      "\n",
      " Particle: \n",
      "\t Position: [0 1]\n",
      "\t Past Position: [0 1]\n",
      "\t Acceleration: [0. 0.]\n",
      "\t Mass: 10\n",
      "\t Achored: True\n"
     ]
    }
   ],
   "source": [
    "mesh_construct()"
   ]
  },
  {
   "cell_type": "code",
   "execution_count": null,
   "id": "86c420a9",
   "metadata": {},
   "outputs": [],
   "source": []
  },
  {
   "cell_type": "code",
   "execution_count": 120,
   "id": "bdba6a8c",
   "metadata": {},
   "outputs": [
    {
     "data": {
      "image/png": "[encoded data removed]",
      "text/plain": [
       "<Figure size 432x288 with 1 Axes>"
      ]
     },
     "metadata": {
      "needs_background": "light"
     },
     "output_type": "display_data"
    }
   ],
   "source": [
    "\n"
   ]
  },
  {
   "cell_type": "code",
   "execution_count": null,
   "id": "5f6c8a6d",
   "metadata": {},
   "outputs": [],
   "source": []
  }
 ],
 "metadata": {
  "kernelspec": {
   "display_name": "Python 3 (ipykernel)",
   "language": "python",
   "name": "python3"
  },
  "language_info": {
   "codemirror_mode": {
    "name": "ipython",
    "version": 3
   },
   "file_extension": ".py",
   "mimetype": "text/x-python",
   "name": "python",
   "nbconvert_exporter": "python",
   "pygments_lexer": "ipython3",
   "version": "3.9.9"
  }
 },
 "nbformat": 4,
 "nbformat_minor": 5
}
